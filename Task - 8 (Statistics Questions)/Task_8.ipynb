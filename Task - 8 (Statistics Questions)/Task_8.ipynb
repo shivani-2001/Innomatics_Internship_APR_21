{
 "cells": [
  {
   "cell_type": "markdown",
   "id": "b58ab01b",
   "metadata": {},
   "source": [
    "### 1 - The ratio of boys to girls for babies born in Russia is 1.09 : 1. If there is 1 child born per birth, what proportion of Russian families with exactly 6 children will have at least 3 boys?\n",
    "\n",
    "Write a program to compute the answer using the above parameters. Then print your result, rounded to a scale of  decimal places (i.e.,  format)."
   ]
  },
  {
   "cell_type": "code",
   "execution_count": 1,
   "id": "02f50484",
   "metadata": {},
   "outputs": [
    {
     "name": "stdout",
     "output_type": "stream",
     "text": [
      "1.09 1\n",
      "0.696\n"
     ]
    }
   ],
   "source": [
    "import math\n",
    "\n",
    "r1, r2 = map(float, input().split())\n",
    "n = 6\n",
    "total_probability = 0\n",
    "boy_prob = r1/(r1+r2)\n",
    "\n",
    "for i in range(3, 7):\n",
    "    total_probability += (math.factorial(n)/(math.factorial(i)*math.factorial(n-i))) * (boy_prob**i) * ((1-boy_prob)**(n-i))\n",
    "    \n",
    "print(round(total_probability, 3))"
   ]
  },
  {
   "cell_type": "markdown",
   "id": "cf3e960d",
   "metadata": {},
   "source": [
    "### 2 - A manufacturer of metal pistons finds that, on average, 12% of the pistons they manufacture are rejected because they are incorrectly sized. What is the probability that a batch of 10 pistons will contain:\n",
    "\n",
    "- No more than 2 rejects?\n",
    "- At least 2 rejects?"
   ]
  },
  {
   "cell_type": "code",
   "execution_count": 2,
   "id": "351d6eb6",
   "metadata": {},
   "outputs": [
    {
     "name": "stdout",
     "output_type": "stream",
     "text": [
      "12 10\n",
      "0.891\n",
      "0.342\n"
     ]
    }
   ],
   "source": [
    "import math\n",
    "\n",
    "p, batch_size = map(float, input().split())\n",
    "p = p/100\n",
    "total_probability1 = 0\n",
    "total_probability2 = 0\n",
    "\n",
    "for i in range(0, 3):\n",
    "    total_probability1 += (math.factorial(batch_size)/(math.factorial(i)*math.factorial(batch_size-i))) * (p**i) * ((1-p)**(batch_size-i))\n",
    "    \n",
    "total_probability2 = 1-(total_probability1)+(math.factorial(batch_size)/(math.factorial(2)*math.factorial(batch_size-2))) * (p**2) * ((1-p)**(batch_size-2))\n",
    "\n",
    "print(round(total_probability1, 3))\n",
    "print(round(total_probability2, 3))"
   ]
  },
  {
   "cell_type": "markdown",
   "id": "f540ab21",
   "metadata": {},
   "source": [
    "### 3 - In a certain plant, the time taken to assemble a car is a random variable, X, having a normal distribution with a mean of 20 hours and a standard deviation of 2 hours. What is the probability that a car can be assembled at this plant in:\n",
    "\n",
    "- Less than 19.5 hours?\n",
    "- Between 20 and 22 hours?"
   ]
  },
  {
   "cell_type": "code",
   "execution_count": 3,
   "id": "21e52b73",
   "metadata": {},
   "outputs": [
    {
     "name": "stdout",
     "output_type": "stream",
     "text": [
      "20 2\n",
      "19.5\n",
      "20 22\n",
      "0.401\n",
      "0.341\n"
     ]
    }
   ],
   "source": [
    "from math import erf\n",
    "mu, std = map(float, input().split())\n",
    "first = float(input())\n",
    "lower, upper = map(float, input().split())\n",
    "\n",
    "def cdf(x, mu, std):\n",
    "    return 0.5*(1+erf((x-mu)/(std*(2**0.5))))\n",
    "\n",
    "first_prob = cdf(first, mu, std)\n",
    "second_prob = cdf(upper, mu, std) - cdf(lower, mu, std)\n",
    "\n",
    "print(round(first_prob, 3))\n",
    "print(round(second_prob, 3))"
   ]
  },
  {
   "cell_type": "markdown",
   "id": "f4cef745",
   "metadata": {},
   "source": [
    "### 4 - The final grades for a Physics exam taken by a large group of students have a mean of $ \\mu $ = 70 and a standard deviation of $ \\sigma $ = 10. If we can approximate the distribution of these grades by a normal distribution, what percentage of the students:\n",
    "\n",
    "- Scored higher than 80 (i.e., have a grade > 80)?\n",
    "- Passed the test (i.e., have a grade >= 60)?\n",
    "- Failed the test (i.e., have a grade < 60)? <br>\n",
    "Find and print the answer to each question on a new line, rounded to a scale of 2 decimal places."
   ]
  },
  {
   "cell_type": "code",
   "execution_count": 4,
   "id": "9a1e7a30",
   "metadata": {},
   "outputs": [
    {
     "name": "stdout",
     "output_type": "stream",
     "text": [
      "70 10\n",
      "80\n",
      "60\n",
      "15.87\n",
      "84.13\n",
      "15.87\n"
     ]
    }
   ],
   "source": [
    "from math import erf\n",
    "mu, std = map(float, input().split())\n",
    "first = float(input())\n",
    "second = float(input())\n",
    "\n",
    "def cdf(x, mu, std):\n",
    "    return 0.5*(1+erf((x-mu)/(std*(2**0.5))))\n",
    "\n",
    "first_prob = 1 - cdf(first, mu, std)\n",
    "second_prob = 1 - cdf(second, mu, std)\n",
    "third_prob = cdf(second, mu, std)\n",
    "\n",
    "print(round(first_prob*100, 2))\n",
    "print(round(second_prob*100, 2))\n",
    "print(round(third_prob*100, 2))"
   ]
  },
  {
   "cell_type": "markdown",
   "id": "1e1289e9",
   "metadata": {},
   "source": [
    "### 5 - A large elevator can transport a maximum of 9800 pounds. Suppose a load of cargo containing 49 boxes must be transported via the elevator. The box weight of this type of cargo follows a distribution with a mean of $ \\mu $ = 205 pounds and a standard deviation of $ \\sigma $ = 15 pounds. Based on this information, what is the probability that all 49 boxes can be safely loaded into the freight elevator and transported?"
   ]
  },
  {
   "cell_type": "code",
   "execution_count": 5,
   "id": "22d45aaa",
   "metadata": {},
   "outputs": [
    {
     "name": "stdout",
     "output_type": "stream",
     "text": [
      "9800\n",
      "49\n",
      "205\n",
      "15\n",
      "0.0098\n"
     ]
    }
   ],
   "source": [
    "from math import erf\n",
    "\n",
    "pop_size = float(input())\n",
    "size = float(input())\n",
    "mu = float(input())\n",
    "std = float(input())\n",
    "\n",
    "mu = size*mu\n",
    "std = (size**0.5)*std\n",
    "\n",
    "def cdf(x, mu, std):\n",
    "    return 0.5*(1+erf((x-mu)/(std*(2**0.5))))\n",
    "\n",
    "prob = cdf(pop_size, mu, std)\n",
    "print(round(prob, 4))"
   ]
  },
  {
   "cell_type": "markdown",
   "id": "db284a65",
   "metadata": {},
   "source": [
    "### 6 - The number of tickets purchased by each student for the University X vs. University Y football game follows a distribution that has a mean of $ \\mu $ = 2.4 and a standard deviation of $ \\sigma $ = 2.0.\n",
    "\n",
    "A few hours before the game starts, 100 eager students line up to purchase last-minute tickets. If there are only 250 tickets left, what is the probability that all 100 students will be able to purchase tickets?"
   ]
  },
  {
   "cell_type": "code",
   "execution_count": 6,
   "id": "d179665b",
   "metadata": {},
   "outputs": [
    {
     "name": "stdout",
     "output_type": "stream",
     "text": [
      "250\n",
      "100\n",
      "2.4\n",
      "2.0\n",
      "0.6915\n"
     ]
    }
   ],
   "source": [
    "from math import erf\n",
    "\n",
    "ticket = float(input())\n",
    "size = float(input())\n",
    "mu = float(input())\n",
    "std = float(input())\n",
    "\n",
    "mu = size*mu\n",
    "std = (size**0.5)*std\n",
    "\n",
    "def cdf(x, mu, std):\n",
    "    return 0.5*(1+erf((x-mu)/(std*(2**0.5))))\n",
    "\n",
    "prob = cdf(ticket, mu, std)\n",
    "print(round(prob, 4))"
   ]
  },
  {
   "cell_type": "markdown",
   "id": "12d03548",
   "metadata": {},
   "source": [
    "### 7 - You have a sample of 100 values from a population with mean $ \\mu $ = 500 and with standard deviation $ \\sigma $ = 80. Compute the interval that covers the middle 95% of the distribution of the sample mean; in other words, compute A and B such that <i>P(A < x < B) = 0.95</i>. Use the value of z = 1.96. Note that z is the z-score."
   ]
  },
  {
   "cell_type": "code",
   "execution_count": 7,
   "id": "2b8f1435",
   "metadata": {},
   "outputs": [
    {
     "name": "stdout",
     "output_type": "stream",
     "text": [
      "100\n",
      "500\n",
      "80\n",
      ".95\n",
      "1.96\n",
      "484.32\n",
      "515.68\n"
     ]
    }
   ],
   "source": [
    "sample_size = float(input())\n",
    "sample_mean = float(input())\n",
    "sample_std = float(input())\n",
    "perc = float(input())\n",
    "z_score = float(input())\n",
    "\n",
    "A = sample_mean-z_score*(sample_std/(sample_size**0.5))\n",
    "B = sample_mean+z_score*(sample_std/(sample_size**0.5))\n",
    "\n",
    "print(round(A, 2))\n",
    "print(round(B, 2))"
   ]
  },
  {
   "cell_type": "markdown",
   "id": "01d36687",
   "metadata": {},
   "source": [
    "### 8 - Given two n-element data sets, X and Y, calculate the value of the Pearson correlation coefficient."
   ]
  },
  {
   "cell_type": "code",
   "execution_count": 8,
   "id": "a83084c5",
   "metadata": {},
   "outputs": [
    {
     "name": "stdout",
     "output_type": "stream",
     "text": [
      "10\n",
      "10 9.8 8 7.8 7.7 7 6 5 4 2\n",
      "200 44 32 24 22 17 15 12 8 4\n",
      "0.612\n"
     ]
    }
   ],
   "source": [
    "n = int(input())\n",
    "X = list(map(float, input().split()))\n",
    "Y = list(map(float, input().split()))\n",
    "\n",
    "mu_x = sum(X)/n\n",
    "std_x = []\n",
    "\n",
    "mu_y = sum(Y)/n\n",
    "std_y = []\n",
    "\n",
    "summation = []\n",
    "for i in range(n):\n",
    "    std_x.append((X[i]-mu_x)**2)\n",
    "    std_y.append((Y[i]-mu_y)**2)\n",
    "    summation.append((X[i]-mu_x)*(Y[i]-mu_y))\n",
    "\n",
    "std_x = (sum(std_x)/n)**0.5\n",
    "std_y = (sum(std_y)/n)**0.5\n",
    "corr_coef = sum(summation)/(n*std_x*std_y)\n",
    "print(round(corr_coef, 3))"
   ]
  },
  {
   "cell_type": "markdown",
   "id": "9095d2ff",
   "metadata": {},
   "source": [
    "### 9 - A group of five students enrolls in Statistics immediately after taking a Math aptitude test. Each student's Math aptitude test score, x, and Statistics course grade, y, can be expressed as the following list of (x,y) points:\n",
    "1. (95, 85)\n",
    "2. (85, 95)\n",
    "3. (80, 70)\n",
    "4. (70, 65)\n",
    "5. (60, 70) <br>\n",
    "If a student scored an 80 on the Math aptitude test, what grade would we expect them to achieve in Statistics? Determine the equation of the best-fit line using the least squares method, then compute and print the value of y when x = 80."
   ]
  },
  {
   "cell_type": "code",
   "execution_count": 9,
   "id": "2db97fca",
   "metadata": {},
   "outputs": [
    {
     "name": "stdout",
     "output_type": "stream",
     "text": [
      "95 85\n",
      "85 95\n",
      "80 70\n",
      "70 65\n",
      "60 70\n",
      "78.288\n"
     ]
    }
   ],
   "source": [
    "X = []\n",
    "Y = []\n",
    "for i in range(5):\n",
    "    s = input().split()\n",
    "    X.append(int(s[0]))\n",
    "    Y.append(int(s[1]))\n",
    "    \n",
    "n = 5\n",
    "mu_x = sum(X)/n\n",
    "std_x = []\n",
    "\n",
    "mu_y = sum(Y)/n\n",
    "std_y = []\n",
    "\n",
    "summation = []\n",
    "for i in range(n):\n",
    "    std_x.append((X[i]-mu_x)**2)\n",
    "    std_y.append((Y[i]-mu_y)**2)\n",
    "    summation.append((X[i]-mu_x)*(Y[i]-mu_y))\n",
    "\n",
    "std_x = (sum(std_x)/n)**0.5\n",
    "std_y = (sum(std_y)/n)**0.5\n",
    "corr_coef = sum(summation)/(n*std_x*std_y)\n",
    "\n",
    "b = corr_coef*(std_y/std_x)\n",
    "a = mu_y-(b*mu_x)\n",
    "\n",
    "print(round((80*b+a), 3))"
   ]
  },
  {
   "cell_type": "markdown",
   "id": "d1f69071",
   "metadata": {},
   "source": [
    "### 10 - Multiple linear regression"
   ]
  },
  {
   "cell_type": "code",
   "execution_count": 10,
   "id": "04f39297",
   "metadata": {},
   "outputs": [
    {
     "name": "stdout",
     "output_type": "stream",
     "text": [
      "2 7\n",
      "0.18 0.89 109.85\n",
      "1.0 0.26 155.72\n",
      "0.92 0.11 137.66\n",
      "0.07 0.37 76.17\n",
      "0.85 0.16 139.75\n",
      "0.99 0.41 162.6\n",
      "0.87 0.47 151.77\n",
      "4\n",
      "0.49 0.18\n",
      "0.57 0.83\n",
      "0.56 0.64\n",
      "0.76 0.18\n",
      "105.21\n",
      "142.67\n",
      "132.94\n",
      "129.7\n"
     ]
    }
   ],
   "source": [
    "import numpy as np\n",
    "\n",
    "m, n = map(int, input().split())\n",
    "x = []\n",
    "y = []\n",
    "\n",
    "for i in range(n):\n",
    "    s = list(map(float, input().split()))\n",
    "    x.append(1)\n",
    "    x.extend(s[:m])\n",
    "    y.append(s[m:])\n",
    "    \n",
    "n1 = int(input())\n",
    "out_x = []\n",
    "\n",
    "for i in range(n1):\n",
    "    s = list(map(float, input().split()))\n",
    "    out_x.append(1)\n",
    "    out_x.extend(s)\n",
    "    \n",
    "x = np.array(x).reshape(n, m+1)\n",
    "y = np.array(y).reshape(n, 1)\n",
    "out_x = np.array(out_x).reshape(n1, m+1)\n",
    "\n",
    "b = np.dot(np.linalg.inv(np.dot(x.T,x)),np.dot(x.T,y))\n",
    "out_y = out_x.dot(b)\n",
    "\n",
    "for i in out_y:\n",
    "    print(round(float(i),2))"
   ]
  }
 ],
 "metadata": {
  "kernelspec": {
   "display_name": "Python 3",
   "language": "python",
   "name": "python3"
  },
  "language_info": {
   "codemirror_mode": {
    "name": "ipython",
    "version": 3
   },
   "file_extension": ".py",
   "mimetype": "text/x-python",
   "name": "python",
   "nbconvert_exporter": "python",
   "pygments_lexer": "ipython3",
   "version": "3.8.5"
  }
 },
 "nbformat": 4,
 "nbformat_minor": 5
}
