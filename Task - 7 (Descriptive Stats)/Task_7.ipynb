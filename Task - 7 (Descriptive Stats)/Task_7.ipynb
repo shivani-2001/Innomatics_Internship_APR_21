{
 "cells": [
  {
   "cell_type": "markdown",
   "id": "ee62a5eb",
   "metadata": {},
   "source": [
    "# <center> Descriptive Statistics </center>"
   ]
  },
  {
   "cell_type": "markdown",
   "id": "c16765e5",
   "metadata": {},
   "source": [
    "Descriptive statistics is the collection, organization, summarization, and presentation of data. We will do descriptive statistics analysis on below dataset. There are many topics in descriptive statistics and we will do all one by one. Descriptive statistics helps us in understanding of data. "
   ]
  },
  {
   "cell_type": "code",
   "execution_count": 1,
   "id": "9b4e5a46",
   "metadata": {},
   "outputs": [],
   "source": [
    "import warnings\n",
    "import numpy as np\n",
    "import pandas as pd\n",
    "import matplotlib.pyplot as plt\n",
    "import seaborn as sns\n",
    "from scipy import stats\n",
    "\n",
    "warnings.filterwarnings('ignore')"
   ]
  },
  {
   "cell_type": "code",
   "execution_count": 2,
   "id": "d7188640",
   "metadata": {},
   "outputs": [
    {
     "data": {
      "text/html": [
       "<div>\n",
       "<style scoped>\n",
       "    .dataframe tbody tr th:only-of-type {\n",
       "        vertical-align: middle;\n",
       "    }\n",
       "\n",
       "    .dataframe tbody tr th {\n",
       "        vertical-align: top;\n",
       "    }\n",
       "\n",
       "    .dataframe thead th {\n",
       "        text-align: right;\n",
       "    }\n",
       "</style>\n",
       "<table border=\"1\" class=\"dataframe\">\n",
       "  <thead>\n",
       "    <tr style=\"text-align: right;\">\n",
       "      <th></th>\n",
       "      <th>Mthly_HH_Income</th>\n",
       "      <th>Mthly_HH_Expense</th>\n",
       "      <th>No_of_Fly_Members</th>\n",
       "      <th>Emi_or_Rent_Amt</th>\n",
       "      <th>Annual_HH_Income</th>\n",
       "      <th>Highest_Qualified_Member</th>\n",
       "      <th>No_of_Earning_Members</th>\n",
       "    </tr>\n",
       "  </thead>\n",
       "  <tbody>\n",
       "    <tr>\n",
       "      <th>0</th>\n",
       "      <td>5000</td>\n",
       "      <td>8000</td>\n",
       "      <td>3</td>\n",
       "      <td>2000</td>\n",
       "      <td>64200</td>\n",
       "      <td>Under-Graduate</td>\n",
       "      <td>1</td>\n",
       "    </tr>\n",
       "    <tr>\n",
       "      <th>1</th>\n",
       "      <td>6000</td>\n",
       "      <td>7000</td>\n",
       "      <td>2</td>\n",
       "      <td>3000</td>\n",
       "      <td>79920</td>\n",
       "      <td>Illiterate</td>\n",
       "      <td>1</td>\n",
       "    </tr>\n",
       "    <tr>\n",
       "      <th>2</th>\n",
       "      <td>10000</td>\n",
       "      <td>4500</td>\n",
       "      <td>2</td>\n",
       "      <td>0</td>\n",
       "      <td>112800</td>\n",
       "      <td>Under-Graduate</td>\n",
       "      <td>1</td>\n",
       "    </tr>\n",
       "    <tr>\n",
       "      <th>3</th>\n",
       "      <td>10000</td>\n",
       "      <td>2000</td>\n",
       "      <td>1</td>\n",
       "      <td>0</td>\n",
       "      <td>97200</td>\n",
       "      <td>Illiterate</td>\n",
       "      <td>1</td>\n",
       "    </tr>\n",
       "    <tr>\n",
       "      <th>4</th>\n",
       "      <td>12500</td>\n",
       "      <td>12000</td>\n",
       "      <td>2</td>\n",
       "      <td>3000</td>\n",
       "      <td>147000</td>\n",
       "      <td>Graduate</td>\n",
       "      <td>1</td>\n",
       "    </tr>\n",
       "  </tbody>\n",
       "</table>\n",
       "</div>"
      ],
      "text/plain": [
       "   Mthly_HH_Income  Mthly_HH_Expense  No_of_Fly_Members  Emi_or_Rent_Amt  \\\n",
       "0             5000              8000                  3             2000   \n",
       "1             6000              7000                  2             3000   \n",
       "2            10000              4500                  2                0   \n",
       "3            10000              2000                  1                0   \n",
       "4            12500             12000                  2             3000   \n",
       "\n",
       "   Annual_HH_Income Highest_Qualified_Member  No_of_Earning_Members  \n",
       "0             64200           Under-Graduate                      1  \n",
       "1             79920               Illiterate                      1  \n",
       "2            112800           Under-Graduate                      1  \n",
       "3             97200               Illiterate                      1  \n",
       "4            147000                 Graduate                      1  "
      ]
     },
     "execution_count": 2,
     "metadata": {},
     "output_type": "execute_result"
    }
   ],
   "source": [
    "data = pd.read_csv('data.csv')\n",
    "data.head()"
   ]
  },
  {
   "cell_type": "code",
   "execution_count": 3,
   "id": "9576edd0",
   "metadata": {},
   "outputs": [
    {
     "data": {
      "text/plain": [
       "(50, 7)"
      ]
     },
     "execution_count": 3,
     "metadata": {},
     "output_type": "execute_result"
    }
   ],
   "source": [
    "data.shape"
   ]
  },
  {
   "cell_type": "markdown",
   "id": "38d85148",
   "metadata": {},
   "source": [
    "<h3> 1. Measures of Central Tendency - </h3> We use this for univariate analysis. In this we have Mean, Median & Mode. \n",
    "\n",
    "- <b> Mean - </b> Mean refers to average of any set. Mean can be calculated by sum of all the numbers of a set and then divide by no. of values. <br>\n",
    "\n",
    "$$ Mean = \\frac{1}{n} \\sum_{i=1}^{n} x_i $$\n",
    "> Here, n = no. of values in a set <br>\n",
    "> $ \\hspace{10mm} x_i $ = dataset values"
   ]
  },
  {
   "cell_type": "markdown",
   "id": "830eeb95",
   "metadata": {},
   "source": [
    "#### Mean of ***Mthly_HH_Income*** column of our dataset without library function"
   ]
  },
  {
   "cell_type": "code",
   "execution_count": 4,
   "id": "434dd6b4",
   "metadata": {},
   "outputs": [
    {
     "name": "stdout",
     "output_type": "stream",
     "text": [
      "41558.0\n"
     ]
    }
   ],
   "source": [
    "x = data['Mthly_HH_Income']\n",
    "\n",
    "mean = sum(x)/len(x)\n",
    "print(mean)"
   ]
  },
  {
   "cell_type": "markdown",
   "id": "23360fb1",
   "metadata": {},
   "source": [
    "#### Mean of ***Mthly_HH_Income*** column of our dataset with library function"
   ]
  },
  {
   "cell_type": "code",
   "execution_count": 5,
   "id": "985ecb82",
   "metadata": {},
   "outputs": [
    {
     "name": "stdout",
     "output_type": "stream",
     "text": [
      "41558.0\n"
     ]
    }
   ],
   "source": [
    "x = data['Mthly_HH_Income']\n",
    "\n",
    "mean = np.mean(x)\n",
    "print(mean)"
   ]
  },
  {
   "cell_type": "markdown",
   "id": "2be66182",
   "metadata": {},
   "source": [
    "- <b> Median - </b> Median refers to middle value of any set. Median can be calculated by sorting the dataset and then pick middle value. There can be two cases - <br>\n",
    "    * case1 - When the no. of values n is odd\n",
    "    * case2 - When the no. of values n is even\n",
    "    \n",
    "> **n is odd -** $$ Median = (\\frac{n+1}{2})^{th} value $$\n",
    "\n",
    "> **n is even -** $$ Median = (\\frac{(\\frac{n}{2}+ (\\frac{n}{2}+1))}{2})^{th} value $$\n",
    "\n",
    "> Here, n = no. of values in a set"
   ]
  },
  {
   "cell_type": "markdown",
   "id": "731b8984",
   "metadata": {},
   "source": [
    "#### Median of ***Mthly_HH_Income*** column of our dataset without library function"
   ]
  },
  {
   "cell_type": "code",
   "execution_count": 6,
   "id": "79f626d4",
   "metadata": {},
   "outputs": [
    {
     "name": "stdout",
     "output_type": "stream",
     "text": [
      "n is even\n",
      "35000\n"
     ]
    }
   ],
   "source": [
    "x = data['Mthly_HH_Income']\n",
    "x = sorted(x)\n",
    "n = len(x)\n",
    "if n%2 == 0:\n",
    "    print('n is even')\n",
    "    median = x[((n//2) + ((n//2)+1)) // 2]\n",
    "else:\n",
    "    print('n is odd')\n",
    "    median = x[(n+1)//2]\n",
    "    \n",
    "print(median)"
   ]
  },
  {
   "cell_type": "markdown",
   "id": "2e66ac8a",
   "metadata": {},
   "source": [
    "#### Median of ***Mthly_HH_Income*** column of our dataset with library function"
   ]
  },
  {
   "cell_type": "code",
   "execution_count": 7,
   "id": "6a572cf9",
   "metadata": {},
   "outputs": [
    {
     "name": "stdout",
     "output_type": "stream",
     "text": [
      "35000.0\n"
     ]
    }
   ],
   "source": [
    "x = data['Mthly_HH_Income']\n",
    "x = sorted(x)\n",
    "\n",
    "median = np.median(x)\n",
    "print(median)"
   ]
  },
  {
   "cell_type": "markdown",
   "id": "d07356b5",
   "metadata": {},
   "source": [
    "- <b> Mode - </b> Mode is the highest occuring value in a dataset. <br>\n",
    "    * unimodal - If there is only one highest occuring value\n",
    "    * bimodal - If there are exactly two highest occuring values\n",
    "    * multimodal - If there are more than two highest occuring values\n",
    "    \n",
    "$$ Mode = highest \\ occuring \\ value $$"
   ]
  },
  {
   "cell_type": "markdown",
   "id": "d8779cad",
   "metadata": {},
   "source": [
    "#### Mode of ***No_of_Fly_Members*** column of our dataset without library function"
   ]
  },
  {
   "cell_type": "code",
   "execution_count": 8,
   "id": "fc053316",
   "metadata": {},
   "outputs": [
    {
     "name": "stdout",
     "output_type": "stream",
     "text": [
      "4\n"
     ]
    }
   ],
   "source": [
    "x = data['No_of_Fly_Members']\n",
    "\n",
    "mode_dict = {}\n",
    "for i in x:\n",
    "    if i in mode_dict:\n",
    "        mode_dict[i] = mode_dict[i]+1\n",
    "    else:\n",
    "        mode_dict[i] = 0\n",
    "        \n",
    "mode = max(mode_dict, key=lambda x: mode_dict[x])\n",
    "print(mode)"
   ]
  },
  {
   "cell_type": "markdown",
   "id": "3dac5b80",
   "metadata": {},
   "source": [
    "#### Mode of ***No_of_Fly_Members*** column of our dataset with library function"
   ]
  },
  {
   "cell_type": "code",
   "execution_count": 9,
   "id": "e0629e5e",
   "metadata": {},
   "outputs": [
    {
     "name": "stdout",
     "output_type": "stream",
     "text": [
      "4\n"
     ]
    }
   ],
   "source": [
    "x = data['No_of_Fly_Members']\n",
    "\n",
    "mode = x.mode()[0]\n",
    "print(mode)"
   ]
  },
  {
   "cell_type": "markdown",
   "id": "f5d99e66",
   "metadata": {},
   "source": [
    "***Note:*** \n",
    "- If dataset has a continous value then use mean/median\n",
    "- If dataset has a categorical value then use mode\n",
    "<br>\n",
    "\n",
    "- Mean is highly impacted by outliers\n",
    "- Median is robust from outliers\n",
    "- Mode is the value that is most likely to be sampled.\n",
    "    - **If datset has outliers then use median otherwise mean**"
   ]
  },
  {
   "cell_type": "markdown",
   "id": "ff1299dc",
   "metadata": {},
   "source": [
    "<h3> 2. Measures of Spread - </h3> We use this for univariate analysis. In this we have Range, IQR, Variance, Standard deviation. \n",
    "\n",
    "- <b> Variance - </b> Variance is the average of the squared differences from the Mean. It tells how the data is spread around the mean. <br>\n",
    "\n",
    "$$ Variance \\ (\\sigma^{2}) = \\frac{1}{n} \\sum (x_i - \\mu_x)^{2} $$\n",
    "> Here, n = no. of values in a set <br> \n",
    "> $ \\hspace{10mm} x_i $ = dataset values <br>\n",
    "> $ \\hspace{10mm} \\mu_x $ = mean of dataset"
   ]
  },
  {
   "cell_type": "markdown",
   "id": "74e9cb85",
   "metadata": {},
   "source": [
    "#### Variance of ***Mthly_HH_Expense*** column of our dataset without library function"
   ]
  },
  {
   "cell_type": "code",
   "execution_count": 10,
   "id": "8bf6ad6d",
   "metadata": {},
   "outputs": [
    {
     "name": "stdout",
     "output_type": "stream",
     "text": [
      "143249876.0\n"
     ]
    }
   ],
   "source": [
    "x = data['Mthly_HH_Expense']\n",
    "\n",
    "mean = sum(x)/len(x)\n",
    "variance = []\n",
    "\n",
    "for i in x:\n",
    "    variance.append((i-mean)**2)\n",
    "    \n",
    "variance = sum(variance)/len(x)\n",
    "print(variance)"
   ]
  },
  {
   "cell_type": "markdown",
   "id": "8a411384",
   "metadata": {},
   "source": [
    "#### Variance of ***Mthly_HH_Expense*** column of our dataset with library function"
   ]
  },
  {
   "cell_type": "code",
   "execution_count": 11,
   "id": "499d7977",
   "metadata": {},
   "outputs": [
    {
     "name": "stdout",
     "output_type": "stream",
     "text": [
      "143249876.0\n"
     ]
    }
   ],
   "source": [
    "x = data['Mthly_HH_Expense']\n",
    "\n",
    "variance = np.var(x)\n",
    "print(variance)"
   ]
  },
  {
   "cell_type": "markdown",
   "id": "17e975c5",
   "metadata": {},
   "source": [
    "- <b> Standard deviation - </b> Standard deviation is the square root of variance. <br>\n",
    "\n",
    "$$ Standard \\ deviation \\ (\\sigma) = \\sqrt{\\frac{1}{n} \\sum (x_i - \\mu_x)^{2}} $$\n",
    "$$ Standard \\ deviation \\ (\\sigma) = \\sqrt{variance} $$\n",
    "> Here, n = no. of values in a set <br> \n",
    "> $ \\hspace{10mm} x_i $ = dataset values <br>\n",
    "> $ \\hspace{10mm} \\mu_x $ = mean of dataset"
   ]
  },
  {
   "cell_type": "markdown",
   "id": "5f3f3aab",
   "metadata": {},
   "source": [
    "#### Std of ***Mthly_HH_Expense*** column of our dataset without library function"
   ]
  },
  {
   "cell_type": "code",
   "execution_count": 12,
   "id": "35eb5ad2",
   "metadata": {},
   "outputs": [
    {
     "name": "stdout",
     "output_type": "stream",
     "text": [
      "11968.704023410388\n"
     ]
    }
   ],
   "source": [
    "x = data['Mthly_HH_Expense']\n",
    "\n",
    "mean = sum(x)/len(x)\n",
    "std = []\n",
    "\n",
    "for i in x:\n",
    "    std.append((i-mean)**2)\n",
    "    \n",
    "std = (sum(std)/len(x))**0.5\n",
    "print(std)"
   ]
  },
  {
   "cell_type": "markdown",
   "id": "5e96bd5e",
   "metadata": {},
   "source": [
    "#### Std of ***Mthly_HH_Expense*** column of our dataset with library function"
   ]
  },
  {
   "cell_type": "code",
   "execution_count": 13,
   "id": "f8cc84e6",
   "metadata": {},
   "outputs": [
    {
     "name": "stdout",
     "output_type": "stream",
     "text": [
      "11968.704023410388\n"
     ]
    }
   ],
   "source": [
    "x = data['Mthly_HH_Expense']\n",
    "\n",
    "std = np.std(x)\n",
    "print(std)"
   ]
  },
  {
   "cell_type": "markdown",
   "id": "e2c790da",
   "metadata": {},
   "source": [
    "<h3> 3. Measures of Relationship - </h3> We use this for bivariate analysis. In this we have Co-variance & Correlation. Both measure the relationship and the dependency between two variables. \n",
    "\n",
    "- <b> Correlation - </b> Correlation measures the strength and direction of the linear relationship between two variables. The values range between -1.0 and 1.0. There are three cases - <br>\n",
    "    * case1 - If the correlation value is -1, in this case two variables x & y are dependent to each other and it shows negative correlation as x value increases y value decreases\n",
    "    * case2 - If the correlation value is +1, in this case two variables x & y are dependent to each other and it shows positive correlation as x value increases y value also increases\n",
    "    * case3 - If the correlation value is 0, in this case two varible x & y are totally independent to eachother.\n",
    "\n",
    "There are several types of correlation coefficients, and most common is the pearson correlation. It works only for linear relationships. \n",
    "\n",
    "$$ Correlation \\ (r_{x,y}) = \\frac{n(\\sum xy) - (\\sum x)(\\sum y)} {\\sqrt{(n \\sum x^{2} - (\\sum x)^{2})\\ (n \\sum y^{2} - (\\sum y)^{2})}} $$\n",
    "In terms of co-variance - $$ Correlation \\ (r_{x,y}) = \\frac{cov_{x,y}} {\\sigma_x * \\sigma_y} $$\n",
    "Co-variance - $$ Cov_{x,y} = \\frac{1}{n} \\sum_{i=1}^n (x_i - \\mu_x)(y_i - \\mu_y) $$\n",
    "\n",
    "***Important:*** $$ -1 \\leq \\ r_{x,y} \\ \\leq +1 $$\n",
    "\n",
    "> Here, n = no. of values in a dataset <br>\n",
    "> $ \\hspace{10mm} x $ = first variable <br>\n",
    "> $ \\hspace{10mm} y $ = second variable <br>\n",
    "> $ \\hspace{10mm} \\mu_x $ = mean of x varibale <br>\n",
    "> $ \\hspace{10mm} \\mu_y $ = mean of y varibale <br>\n",
    "> $ \\hspace{10mm} \\sigma_x $ = std of x varibale <br>\n",
    "> $ \\hspace{10mm} \\sigma_y $ = std of y varibale"
   ]
  },
  {
   "cell_type": "markdown",
   "id": "8ebe02cc",
   "metadata": {},
   "source": [
    "#### Correlation of ***Mthly_HH_Income  & Mthly_HH_Expense*** columns of our dataset without library function"
   ]
  },
  {
   "cell_type": "code",
   "execution_count": 14,
   "id": "2bc5c0c8",
   "metadata": {},
   "outputs": [
    {
     "name": "stdout",
     "output_type": "stream",
     "text": [
      "0.6492152549316461\n"
     ]
    }
   ],
   "source": [
    "x = data['Mthly_HH_Income']\n",
    "y = data['Mthly_HH_Expense']\n",
    "\n",
    "n = len(x)\n",
    "\n",
    "mu_x = sum(x)/n\n",
    "std_x = []\n",
    "\n",
    "mu_y = sum(y)/n\n",
    "std_y = []\n",
    "\n",
    "summation = []\n",
    "for i in range(n):\n",
    "    std_x.append((x[i]-mu_x)**2)\n",
    "    std_y.append((y[i]-mu_y)**2)\n",
    "    summation.append((x[i]-mu_x)*(y[i]-mu_y))\n",
    "\n",
    "std_x = (sum(std_x)/n)**0.5\n",
    "std_y = (sum(std_y)/n)**0.5\n",
    "\n",
    "correlation = sum(summation)/(n*std_x*std_y)\n",
    "print(correlation)"
   ]
  },
  {
   "cell_type": "markdown",
   "id": "0f978c80",
   "metadata": {},
   "source": [
    "#### Correlation of ***Mthly_HH_Income  & Mthly_HH_Expense*** columns of our dataset with library function"
   ]
  },
  {
   "cell_type": "code",
   "execution_count": 15,
   "id": "7e29ed4c",
   "metadata": {},
   "outputs": [
    {
     "name": "stdout",
     "output_type": "stream",
     "text": [
      "[[1.         0.64921525]\n",
      " [0.64921525 1.        ]]\n"
     ]
    }
   ],
   "source": [
    "x = data['Mthly_HH_Income']\n",
    "y = data['Mthly_HH_Expense']\n",
    "\n",
    "correlation = np.corrcoef(x, y)\n",
    "print(correlation)"
   ]
  },
  {
   "cell_type": "markdown",
   "id": "b2e0e15d",
   "metadata": {},
   "source": [
    "#### Correlation of ***Mthly_HH_Income  & Emi_or_Rent_Amt*** columns of our dataset without library function"
   ]
  },
  {
   "cell_type": "code",
   "execution_count": 16,
   "id": "3401ce86",
   "metadata": {},
   "outputs": [
    {
     "name": "stdout",
     "output_type": "stream",
     "text": [
      "0.03697611093890591\n"
     ]
    }
   ],
   "source": [
    "x = data['Mthly_HH_Income']\n",
    "y = data['Emi_or_Rent_Amt']\n",
    "\n",
    "n = len(x)\n",
    "\n",
    "mu_x = sum(x)/n\n",
    "std_x = []\n",
    "\n",
    "mu_y = sum(y)/n\n",
    "std_y = []\n",
    "\n",
    "summation = []\n",
    "for i in range(n):\n",
    "    std_x.append((x[i]-mu_x)**2)\n",
    "    std_y.append((y[i]-mu_y)**2)\n",
    "    summation.append((x[i]-mu_x)*(y[i]-mu_y))\n",
    "\n",
    "std_x = (sum(std_x)/n)**0.5\n",
    "std_y = (sum(std_y)/n)**0.5\n",
    "\n",
    "correlation = sum(summation)/(n*std_x*std_y)\n",
    "print(correlation)"
   ]
  },
  {
   "cell_type": "code",
   "execution_count": 17,
   "id": "48cff1cb",
   "metadata": {},
   "outputs": [
    {
     "name": "stdout",
     "output_type": "stream",
     "text": [
      "[[1.         0.03697611]\n",
      " [0.03697611 1.        ]]\n"
     ]
    }
   ],
   "source": [
    "x = data['Mthly_HH_Income']\n",
    "y = data['Emi_or_Rent_Amt']\n",
    "\n",
    "correlation = np.corrcoef(x, y)\n",
    "print(correlation)"
   ]
  },
  {
   "cell_type": "markdown",
   "id": "15f36fd0",
   "metadata": {},
   "source": [
    "<h3> Normal Distribution - </h3> A normal distribution, sometimes called the bell curve, is a distribution that occurs naturally in many situations. For example, the bell curve is seen in scores of students. The bulk of students will score the average (C), while smaller numbers of students will score a B or D. An even smaller percentage of students score an F or an A. This creates a distribution that resembles a bell. <br>\n",
    "The bell curve is symmetrical. Half of the data will fall to the left of the mean; half will fall to the right. Many groups follow this type of pattern. That’s why it’s widely used in business, statistics. <br>\n",
    "\n",
    "***Parameters of Normal Distribution -*** $ \\mu - mean, \\ \\sigma - std $\n",
    "$$ Normal \\ Distribution = \\frac{1}{\\sqrt{2 \\pi} \\ \\ \\sigma} \\ e^{(\\frac{- \\ (x - \\mu)^{2}}{2 \\sigma^{2}})} $$"
   ]
  },
  {
   "cell_type": "markdown",
   "id": "2ca1a331",
   "metadata": {},
   "source": [
    "#### Normal Distribution of ***Mthly_HH_Income  & Mthly_HH_Expense*** columns of our dataset without library function"
   ]
  },
  {
   "cell_type": "code",
   "execution_count": 18,
   "id": "07da82a0",
   "metadata": {},
   "outputs": [
    {
     "name": "stdout",
     "output_type": "stream",
     "text": [
      "[5.675567588745104e-06, 5.9906011287448085e-06, 7.3250118154634815e-06, 7.3250118154634815e-06, 8.205555917501416e-06, 8.74451787907876e-06, 9.106282781107665e-06, 1.019185005214587e-05, 1.0550078513486217e-05, 1.090454901073251e-05, 1.090454901073251e-05, 1.1597377551778892e-05, 1.2065288525936965e-05, 1.2260531192899015e-05, 1.2260531192899015e-05, 1.2577897706409825e-05, 1.2577897706409825e-05, 1.2577897706409825e-05, 1.372450389664108e-05, 1.397468995391971e-05, 1.409356786603326e-05, 1.4423852978393612e-05, 1.4798503393671846e-05, 1.4798503393671846e-05, 1.4955814764076145e-05, 1.4955814764076145e-05, 1.5369959082411625e-05, 1.5417421545429743e-05, 1.5443220467137382e-05, 1.542144112012186e-05, 1.5309012935228425e-05, 1.5309012935228425e-05, 1.5309012935228425e-05, 1.5309012935228425e-05, 1.5218867339758927e-05, 1.5106603262606252e-05, 1.4642539566133897e-05, 1.4547510702705533e-05, 1.3490231291652902e-05, 1.197170918930318e-05, 1.197170918930318e-05, 1.0233558930759847e-05, 8.426185278443773e-06, 5.105531303793638e-06, 3.757046522392557e-06, 2.663090808431888e-06, 1.4204150612738922e-06, 1.1958207945491064e-06, 1.1958207945491064e-06, 1.1958207945491064e-06]\n"
     ]
    }
   ],
   "source": [
    "from math import exp\n",
    "\n",
    "x = data['Mthly_HH_Income']\n",
    "x = list(x)\n",
    "\n",
    "mu_normal = sum(x)/len(x)\n",
    "std_normal = []\n",
    "for i in x:\n",
    "    std_normal.append((i-mu_normal)**2)    \n",
    "std_normal = (sum(std_normal)/len(x))**0.5\n",
    "\n",
    "normal_dist = []\n",
    "for i in range(len(x)):\n",
    "    normal_dist.append((exp((- (x[i]-mu_normal)**2) / (2 * (std_normal)**2))) / ((2*3.14)**0.5 * std_normal))\n",
    "    \n",
    "print(normal_dist)"
   ]
  },
  {
   "cell_type": "markdown",
   "id": "3b315482",
   "metadata": {},
   "source": [
    "#### Normal Distribution of ***Mthly_HH_Income  & Mthly_HH_Expense*** columns of our dataset with library function"
   ]
  },
  {
   "cell_type": "code",
   "execution_count": 19,
   "id": "6870eda7",
   "metadata": {},
   "outputs": [
    {
     "name": "stdout",
     "output_type": "stream",
     "text": [
      "[5.67412877e-06 5.98908245e-06 7.32315485e-06 7.32315485e-06\n",
      " 8.20347572e-06 8.74230105e-06 9.10397424e-06 1.01892663e-05\n",
      " 1.05474040e-05 1.09017846e-05 1.09017846e-05 1.15944375e-05\n",
      " 1.20622298e-05 1.22574230e-05 1.22574230e-05 1.25747091e-05\n",
      " 1.25747091e-05 1.25747091e-05 1.37210246e-05 1.39711472e-05\n",
      " 1.40899950e-05 1.44201964e-05 1.47947518e-05 1.47947518e-05\n",
      " 1.49520233e-05 1.49520233e-05 1.53660626e-05 1.54135131e-05\n",
      " 1.54393054e-05 1.54175316e-05 1.53051319e-05 1.53051319e-05\n",
      " 1.53051319e-05 1.53051319e-05 1.52150092e-05 1.51027736e-05\n",
      " 1.46388275e-05 1.45438228e-05 1.34868114e-05 1.19686742e-05\n",
      " 1.19686742e-05 1.02309646e-05 8.42404915e-06 5.10423700e-06\n",
      " 3.75609407e-06 2.66241569e-06 1.42005497e-06 1.19551764e-06\n",
      " 1.19551764e-06 1.19551764e-06]\n"
     ]
    }
   ],
   "source": [
    "x = data['Mthly_HH_Income']\n",
    "\n",
    "mu_normal = np.mean(x)\n",
    "sigma = np.std(x)\n",
    "\n",
    "normal_dist = stats.norm.pdf(x, loc = mu_normal, scale = sigma)\n",
    "print(normal_dist)"
   ]
  },
  {
   "cell_type": "markdown",
   "id": "34ba2e5d",
   "metadata": {},
   "source": [
    "#### Normal Distribution plots"
   ]
  },
  {
   "cell_type": "code",
   "execution_count": 20,
   "id": "64d71784",
   "metadata": {},
   "outputs": [
    {
     "data": {
      "text/plain": [
       "Text(0.5, 1.0, 'Normal Distribution Plot of Mthly_HH_Income')"
      ]
     },
     "execution_count": 20,
     "metadata": {},
     "output_type": "execute_result"
    },
    {
     "data": {
      "image/png": "[encoded data removed]",
      "text/plain": [
       "<Figure size 432x288 with 1 Axes>"
      ]
     },
     "metadata": {
      "needs_background": "light"
     },
     "output_type": "display_data"
    }
   ],
   "source": [
    "sns.distplot(np.array(data['Mthly_HH_Income']))\n",
    "plt.title('Normal Distribution Plot of Mthly_HH_Income')"
   ]
  },
  {
   "cell_type": "code",
   "execution_count": 21,
   "id": "155d90fc",
   "metadata": {},
   "outputs": [
    {
     "data": {
      "text/plain": [
       "Text(0.5, 1.0, 'Normal Distribution Plot of Mthly_HH_Expense')"
      ]
     },
     "execution_count": 21,
     "metadata": {},
     "output_type": "execute_result"
    },
    {
     "data": {
      "image/png": "[encoded data removed]",
      "text/plain": [
       "<Figure size 432x288 with 1 Axes>"
      ]
     },
     "metadata": {
      "needs_background": "light"
     },
     "output_type": "display_data"
    }
   ],
   "source": [
    "sns.distplot(np.array(data['Mthly_HH_Expense']))\n",
    "plt.title('Normal Distribution Plot of Mthly_HH_Expense')"
   ]
  },
  {
   "cell_type": "code",
   "execution_count": 22,
   "id": "8e0d2614",
   "metadata": {},
   "outputs": [
    {
     "data": {
      "text/plain": [
       "Text(0.5, 1.0, 'Normal Distribution Plot of No_of_Fly_Members')"
      ]
     },
     "execution_count": 22,
     "metadata": {},
     "output_type": "execute_result"
    },
    {
     "data": {
      "image/png": "[encoded data removed]",
      "text/plain": [
       "<Figure size 432x288 with 1 Axes>"
      ]
     },
     "metadata": {
      "needs_background": "light"
     },
     "output_type": "display_data"
    }
   ],
   "source": [
    "sns.distplot(np.array(data['No_of_Fly_Members']))\n",
    "plt.title('Normal Distribution Plot of No_of_Fly_Members')"
   ]
  },
  {
   "cell_type": "code",
   "execution_count": 23,
   "id": "6ae0296d",
   "metadata": {},
   "outputs": [
    {
     "data": {
      "text/plain": [
       "Text(0.5, 1.0, 'Normal Distribution Plot of Emi_or_Rent_Amt')"
      ]
     },
     "execution_count": 23,
     "metadata": {},
     "output_type": "execute_result"
    },
    {
     "data": {
      "image/png": "[encoded data removed]",
      "text/plain": [
       "<Figure size 432x288 with 1 Axes>"
      ]
     },
     "metadata": {
      "needs_background": "light"
     },
     "output_type": "display_data"
    }
   ],
   "source": [
    "sns.distplot(np.array(data['Emi_or_Rent_Amt']))\n",
    "plt.title('Normal Distribution Plot of Emi_or_Rent_Amt')"
   ]
  },
  {
   "cell_type": "markdown",
   "id": "75447885",
   "metadata": {},
   "source": [
    "These columns **Mthly_HH_Income, Mthly_HH_Expense, No_of_Fly_Members** are not completly normally distributed. And **Emi_or_Rent_Amt** looks like Log normal distribution because of it's long tail. For a normal distribution there are some properties. And we can check whether a distribution is normal distribution or not."
   ]
  },
  {
   "cell_type": "markdown",
   "id": "dde80d58",
   "metadata": {},
   "source": [
    "<h3> Properties of Normal Distribution - </h3> \n",
    "There are many properties of normal distribution -\n",
    "\n",
    "- The curve is symmetrical about the vertical axis\n",
    "- Due to symmetry, the mean, median, mode of the normal distribution are identical\n",
    "- Bell shaped curve\n",
    "- 68 - 95 - 99.7 % Rule\n",
    "    - $ (\\mu \\underset{-}{+} \\sigma) $ 1 std. away from the mean $ \\rightarrow $ 68% data will cover <br>\n",
    "    - $ (\\mu \\underset{-}{+} 2\\sigma) $ 2 std. away from the mean $ \\rightarrow $ 95% data will cover <br>\n",
    "    - $ (\\mu \\underset{-}{+} 3\\sigma) $ 3 std. away from the mean $ \\rightarrow $ 99.7% data will cover"
   ]
  },
  {
   "cell_type": "markdown",
   "id": "79017ea7",
   "metadata": {},
   "source": [
    "<h3>68 - 95 - 99.7 % Rule - </h3>"
   ]
  },
  {
   "cell_type": "code",
   "execution_count": 24,
   "id": "830a128a",
   "metadata": {},
   "outputs": [],
   "source": [
    "one_std_right = mu_normal + (1 * std_normal)\n",
    "one_std_left = mu_normal - (1 * std_normal)\n",
    "two_std_right = mu_normal + (2 * std_normal)\n",
    "two_std_left = mu_normal - (2 * std_normal)\n",
    "three_std_right = mu_normal + (3 * std_normal)\n",
    "three_std_left = mu_normal - (3 * std_normal)"
   ]
  },
  {
   "cell_type": "code",
   "execution_count": 25,
   "id": "e6ed27bc",
   "metadata": {},
   "outputs": [
    {
     "data": {
      "image/png": "[encoded data removed]",
      "text/plain": [
       "<Figure size 1440x720 with 1 Axes>"
      ]
     },
     "metadata": {
      "needs_background": "light"
     },
     "output_type": "display_data"
    }
   ],
   "source": [
    "plt.figure(figsize=(20,10))\n",
    "sns.set_style(\"darkgrid\")\n",
    "sns.distplot(np.array(data['Mthly_HH_Income']))\n",
    "\n",
    "plt.axvline(mu_normal, color='coral', label='Mean')\n",
    "\n",
    "plt.axvline(one_std_right, color='yellow', label='Mean + 1SD')\n",
    "plt.axvline(one_std_left, color='yellow', label='Mean - 1SD')\n",
    "plt.axvline(two_std_right, color='green', label='Mean + 2SD')\n",
    "plt.axvline(two_std_left, color='green', label='Mean - 2SD')\n",
    "plt.axvline(three_std_right, color='blue', label='Mean + 3SD')\n",
    "plt.axvline(three_std_left, color='blue', label='Mean - 3SD')\n",
    "plt.legend();"
   ]
  },
  {
   "cell_type": "code",
   "execution_count": 26,
   "id": "e9a46b2d",
   "metadata": {},
   "outputs": [
    {
     "data": {
      "text/plain": [
       "0.7"
      ]
     },
     "execution_count": 26,
     "metadata": {},
     "output_type": "execute_result"
    }
   ],
   "source": [
    "normal = np.array(data['Mthly_HH_Income'])\n",
    "((one_std_left < normal) & (normal < one_std_right)).sum()/normal.size"
   ]
  },
  {
   "cell_type": "code",
   "execution_count": 27,
   "id": "60522648",
   "metadata": {},
   "outputs": [
    {
     "data": {
      "text/plain": [
       "0.92"
      ]
     },
     "execution_count": 27,
     "metadata": {},
     "output_type": "execute_result"
    }
   ],
   "source": [
    "((two_std_left < normal) & (normal < two_std_right)).sum()/normal.size"
   ]
  },
  {
   "cell_type": "code",
   "execution_count": 28,
   "id": "578bf461",
   "metadata": {},
   "outputs": [
    {
     "data": {
      "text/plain": [
       "1.0"
      ]
     },
     "execution_count": 28,
     "metadata": {},
     "output_type": "execute_result"
    }
   ],
   "source": [
    "((three_std_left < normal) & (normal < three_std_right)).sum()/normal.size"
   ]
  },
  {
   "cell_type": "markdown",
   "id": "8b81b45b",
   "metadata": {},
   "source": [
    "**We got these values because data was not normally distributed. And mean, median, mode were not identical.**"
   ]
  },
  {
   "cell_type": "markdown",
   "id": "683aa2df",
   "metadata": {},
   "source": [
    "<h3> Skewness - </h3> Skewness refers to distortion or asymmetry in a normal distribution. If the curve is shifted to the left or to the right, it is said to be skewed. A normal distribution has a skew of zero.\n",
    "\n",
    "- If the curve shifted to the left, it is said to be Negatively skewed\n",
    "- If the curve shifted to the right, it is said to be Positively skewed\n",
    "- If skewness is less than -1 or greater than 1, the distribution is highly skewed.\n",
    "- If skewness is between -1 and -0.5 or between 0.5 and 1, the distribution is moderately skewed.\n",
    "- If skewness is between -0.5 and 0.5, the distribution is approximately symmetric."
   ]
  },
  {
   "cell_type": "code",
   "execution_count": 29,
   "id": "4f37d5a7",
   "metadata": {},
   "outputs": [
    {
     "data": {
      "text/plain": [
       "0.9246148763777229"
      ]
     },
     "execution_count": 29,
     "metadata": {},
     "output_type": "execute_result"
    }
   ],
   "source": [
    "normal_dist = data['Mthly_HH_Income']\n",
    "normal_dist.skew()"
   ]
  },
  {
   "cell_type": "markdown",
   "id": "199f6630",
   "metadata": {},
   "source": [
    "**This distribution is positively skewed and the value of skewness is in the range of 0.5 to 1, it is moderately skewed.**"
   ]
  },
  {
   "cell_type": "markdown",
   "id": "cf8798c8",
   "metadata": {},
   "source": [
    "<h3> Effect on Mean, Median, Mode due to Skewness - </h3>\n",
    "Positively skewed and Negatively skewed effect mean, median and mode also. Generally if the distribution of data is skewed to the left, the mean is less than the median, which is often less than the mode. If the distribution of data is skewed to the right, the mode is often less than the median, which is less than the mean. If the skewness value is 0 then we can say mean, median and mode are identical."
   ]
  },
  {
   "cell_type": "markdown",
   "id": "3141a739",
   "metadata": {},
   "source": [
    "<h3> Q-Q Plot - </h3> Q-Q Plot refers to quantile-quantile plot. It is a way to test normality of a distribution. With the help of this we can check skewness, kurtosis. It is a plot of the quantiles of two distributions against eachother. The pattern of the points in the plot is used to compare the two distributions. <br>\n",
    "A 45$^{\\circ}$ reference line is also plotted. If the two sets come with the same distribution, the points should fall approximately along this reference line. "
   ]
  },
  {
   "cell_type": "code",
   "execution_count": 30,
   "id": "2b61a79a",
   "metadata": {},
   "outputs": [
    {
     "data": {
      "image/png": "[encoded data removed]",
      "text/plain": [
       "<Figure size 432x288 with 1 Axes>"
      ]
     },
     "metadata": {},
     "output_type": "display_data"
    }
   ],
   "source": [
    "stats.probplot(normal_dist, dist=\"norm\", plot=plt)\n",
    "plt.grid()"
   ]
  },
  {
   "cell_type": "markdown",
   "id": "cad89146",
   "metadata": {},
   "source": [
    "**As we can see all the points are not falling on line so we can say it is not a normal distribution.**"
   ]
  },
  {
   "cell_type": "markdown",
   "id": "0022bcf4",
   "metadata": {},
   "source": [
    "<h3> Box-Cox Transformation - </h3> We use Box-Cox plot to transform any pareto, log, positively skewed, negatively skewed distributions to a normal distribution. The box-cox normality plot is a plot of these correlation coefficients for various values of the lambda parameter. <br>\n",
    "The histogram of the data after applying the box-cox transformation with lambda = -0.3 shows a dataset for which the normality assumption is reasonable. "
   ]
  },
  {
   "cell_type": "code",
   "execution_count": 31,
   "id": "4912d896",
   "metadata": {},
   "outputs": [
    {
     "name": "stdout",
     "output_type": "stream",
     "text": [
      "0.3031376789702236\n"
     ]
    }
   ],
   "source": [
    "# x_t = tranformed by box-cox, l = Lambda\n",
    "\n",
    "x_t, l = stats.boxcox(normal_dist)\n",
    "print(l)"
   ]
  },
  {
   "cell_type": "code",
   "execution_count": 32,
   "id": "ecbfaeb1",
   "metadata": {},
   "outputs": [
    {
     "data": {
      "image/png": "[encoded data removed]",
      "text/plain": [
       "<Figure size 432x288 with 1 Axes>"
      ]
     },
     "metadata": {},
     "output_type": "display_data"
    }
   ],
   "source": [
    "stats.probplot(x_t, dist=\"norm\", plot=plt)\n",
    "plt.grid()"
   ]
  },
  {
   "cell_type": "markdown",
   "id": "50b78b88",
   "metadata": {},
   "source": [
    "**As we can see many of the points are falling on line after Box-Cox Transformation and it is now normally distributed.**"
   ]
  },
  {
   "cell_type": "code",
   "execution_count": 33,
   "id": "ccd2ba2d",
   "metadata": {},
   "outputs": [
    {
     "data": {
      "text/plain": [
       "Text(0.5, 1.0, 'Normal Distribution Plot after Box-Cox Transformation on Mthly_HH_Income')"
      ]
     },
     "execution_count": 33,
     "metadata": {},
     "output_type": "execute_result"
    },
    {
     "data": {
      "image/png": "[encoded data removed]",
      "text/plain": [
       "<Figure size 864x576 with 2 Axes>"
      ]
     },
     "metadata": {},
     "output_type": "display_data"
    }
   ],
   "source": [
    "plt.figure(figsize=(12, 8))\n",
    "\n",
    "plt.subplot(1, 2, 1)\n",
    "sns.distplot(np.array(data['Mthly_HH_Expense']))\n",
    "plt.title('Normal Distribution Plot of Mthly_HH_Expense')\n",
    "\n",
    "plt.subplot(1, 2, 2)\n",
    "sns.distplot(np.array(x_t))\n",
    "plt.title('Normal Distribution Plot after Box-Cox Transformation on Mthly_HH_Income')"
   ]
  },
  {
   "cell_type": "markdown",
   "id": "058f46e0",
   "metadata": {},
   "source": [
    "# Thank You 😊😊😊"
   ]
  }
 ],
 "metadata": {
  "kernelspec": {
   "display_name": "Python 3",
   "language": "python",
   "name": "python3"
  },
  "language_info": {
   "codemirror_mode": {
    "name": "ipython",
    "version": 3
   },
   "file_extension": ".py",
   "mimetype": "text/x-python",
   "name": "python",
   "nbconvert_exporter": "python",
   "pygments_lexer": "ipython3",
   "version": "3.8.5"
  }
 },
 "nbformat": 4,
 "nbformat_minor": 5
}
