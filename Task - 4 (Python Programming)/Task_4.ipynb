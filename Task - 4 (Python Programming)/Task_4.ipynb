{
 "cells": [
  {
   "cell_type": "markdown",
   "metadata": {},
   "source": [
    "### 1 - You are given a string and your task is to swap cases. In other words, convert all lowercase letters to uppercase letters and vice versa."
   ]
  },
  {
   "cell_type": "code",
   "execution_count": 1,
   "metadata": {},
   "outputs": [
    {
     "name": "stdout",
     "output_type": "stream",
     "text": [
      "HackerRank.com presents \"Pythonist 2\".\n",
      "hACKERrANK.COM PRESENTS \"pYTHONIST 2\".\n"
     ]
    }
   ],
   "source": [
    "def swap_case(s):\n",
    "    s1 = ''\n",
    "    for i in s:\n",
    "        if i.islower():\n",
    "            s1+=i.upper()\n",
    "        else:\n",
    "            s1+=i.lower()\n",
    "    return s1\n",
    "\n",
    "if __name__ == '__main__':\n",
    "    s = input()\n",
    "    result = swap_case(s)\n",
    "    print(result)"
   ]
  },
  {
   "cell_type": "markdown",
   "metadata": {},
   "source": [
    "### 2 - You are given a string. Split the string on a \" \" (space) delimiter and join using a - hyphen."
   ]
  },
  {
   "cell_type": "code",
   "execution_count": 2,
   "metadata": {},
   "outputs": [
    {
     "name": "stdout",
     "output_type": "stream",
     "text": [
      "this is a string\n",
      "this-is-a-string\n"
     ]
    }
   ],
   "source": [
    "def split_and_join(line):\n",
    "    line = line.split()\n",
    "    line = '-'.join(line)\n",
    "    return line\n",
    "\n",
    "if __name__ == '__main__':\n",
    "    line = input()\n",
    "    result = split_and_join(line)\n",
    "    print(result)"
   ]
  },
  {
   "cell_type": "markdown",
   "metadata": {},
   "source": [
    "### 3 - You are given the firstname and lastname of a person on two different lines. Your task is to read them and print the following:\n",
    "Hello firstname lastname! You just delved into python."
   ]
  },
  {
   "cell_type": "code",
   "execution_count": 3,
   "metadata": {},
   "outputs": [
    {
     "name": "stdout",
     "output_type": "stream",
     "text": [
      "Shivani Khandelwal\n",
      "CSE\n",
      "Hello Shivani Khandelwal CSE! You just delved into python.\n"
     ]
    }
   ],
   "source": [
    "def print_full_name(first, last):\n",
    "    print('Hello'+' '+first+' '+last+'! You just delved into python.')\n",
    "\n",
    "if __name__ == '__main__':\n",
    "    first_name = input()\n",
    "    last_name = input()\n",
    "    print_full_name(first_name, last_name)"
   ]
  },
  {
   "cell_type": "markdown",
   "metadata": {},
   "source": [
    "### 4 - Read a given string, change the character at a given index and then print the modified string."
   ]
  },
  {
   "cell_type": "code",
   "execution_count": 4,
   "metadata": {},
   "outputs": [
    {
     "name": "stdout",
     "output_type": "stream",
     "text": [
      "abracadabra\n",
      "5 k\n",
      "abrackdabra\n"
     ]
    }
   ],
   "source": [
    "def mutate_string(string, position, character):\n",
    "    string = string[0:position]+character+string[position+1:]\n",
    "    return string\n",
    "\n",
    "if __name__ == '__main__':\n",
    "    s = input()\n",
    "    i, c = input().split()\n",
    "    s_new = mutate_string(s, int(i), c)\n",
    "    print(s_new)"
   ]
  },
  {
   "cell_type": "markdown",
   "metadata": {},
   "source": [
    "### 5 - In this challenge, the user enters a string and a substring. You have to print the number of times that the substring occurs in the given string. String traversal will take place from left to right, not from right to left."
   ]
  },
  {
   "cell_type": "code",
   "execution_count": 5,
   "metadata": {},
   "outputs": [
    {
     "name": "stdout",
     "output_type": "stream",
     "text": [
      "ABCDCDC\n",
      "CDC\n",
      "2\n"
     ]
    }
   ],
   "source": [
    "def count_substring(string, sub_string):\n",
    "    count = 0\n",
    "    for i in range(len(string)-(len(sub_string)-1)):\n",
    "        if sub_string == string[i:len(sub_string)+i]:\n",
    "            count+=1\n",
    "    return count\n",
    "\n",
    "if __name__ == '__main__':\n",
    "    string = input().strip()\n",
    "    sub_string = input().strip()\n",
    "    \n",
    "    count = count_substring(string, sub_string)\n",
    "    print(count)"
   ]
  },
  {
   "cell_type": "markdown",
   "metadata": {},
   "source": [
    "### 6 - You are given a string S. Your task is to find out if the string S contains: alphanumeric characters, alphabetical characters, digits, lowercase and uppercase characters."
   ]
  },
  {
   "cell_type": "code",
   "execution_count": 6,
   "metadata": {},
   "outputs": [
    {
     "name": "stdout",
     "output_type": "stream",
     "text": [
      "qA2\n",
      "True\n",
      "True\n",
      "True\n",
      "True\n",
      "True\n"
     ]
    }
   ],
   "source": [
    "if __name__ == '__main__':\n",
    "    s = input()\n",
    "    print(any(i.isalnum() for i in s))\n",
    "    print(any(i.isalpha() for i in s))\n",
    "    print(any(i.isdigit() for i in s))\n",
    "    print(any(i.islower() for i in s))\n",
    "    print(any(i.isupper() for i in s))"
   ]
  },
  {
   "cell_type": "markdown",
   "metadata": {},
   "source": [
    "### 7 - You are given a partial code that is used for generating the HackerRank Logo of variable thickness. Your task is to replace the blank (______) with rjust, ljust or center."
   ]
  },
  {
   "cell_type": "code",
   "execution_count": 7,
   "metadata": {},
   "outputs": [
    {
     "name": "stdout",
     "output_type": "stream",
     "text": [
      "3\n",
      "  H  \n",
      " HHH \n",
      "HHHHH\n",
      " HHH         HHH        \n",
      " HHH         HHH        \n",
      " HHH         HHH        \n",
      " HHH         HHH        \n",
      " HHHHHHHHHHHHHHH  \n",
      " HHHHHHHHHHHHHHH  \n",
      " HHH         HHH        \n",
      " HHH         HHH        \n",
      " HHH         HHH        \n",
      " HHH         HHH        \n",
      "            HHHHH \n",
      "             HHH  \n",
      "              H   \n"
     ]
    }
   ],
   "source": [
    "#Replace all ______ with rjust, ljust or center. \n",
    "\n",
    "thickness = int(input()) #This must be an odd number\n",
    "c = 'H'\n",
    "\n",
    "#Top Cone\n",
    "for i in range(thickness):\n",
    "    print((c*i).rjust(thickness-1)+c+(c*i).ljust(thickness-1))\n",
    "\n",
    "#Top Pillars\n",
    "for i in range(thickness+1):\n",
    "    print((c*thickness).center(thickness*2)+(c*thickness).center(thickness*6))\n",
    "\n",
    "#Middle Belt\n",
    "for i in range((thickness+1)//2):\n",
    "    print((c*thickness*5).center(thickness*6))    \n",
    "\n",
    "#Bottom Pillars\n",
    "for i in range(thickness+1):\n",
    "    print((c*thickness).center(thickness*2)+(c*thickness).center(thickness*6))    \n",
    "\n",
    "#Bottom Cone\n",
    "for i in range(thickness):\n",
    "    print(((c*(thickness-i-1)).rjust(thickness)+c+(c*(thickness-i-1)).ljust(thickness)).rjust(thickness*6))"
   ]
  },
  {
   "cell_type": "markdown",
   "metadata": {},
   "source": [
    "### 8 - You are given a string S and width w. Your task is to wrap the string into a paragraph of width w."
   ]
  },
  {
   "cell_type": "code",
   "execution_count": 8,
   "metadata": {},
   "outputs": [
    {
     "name": "stdout",
     "output_type": "stream",
     "text": [
      "ABCDEFGHIJKLIMNOQRSTUVWXYZ\n",
      "4\n",
      "ABCD\n",
      "EFGH\n",
      "IJKL\n",
      "IMNO\n",
      "QRST\n",
      "UVWX\n",
      "YZ\n"
     ]
    }
   ],
   "source": [
    "import textwrap\n",
    "\n",
    "def wrap(string, max_width):\n",
    "    string1 = []\n",
    "    for i in range(0, len(string), max_width):\n",
    "        string1.append(string[i:max_width+i])\n",
    "    return '\\n'.join(string1)\n",
    "\n",
    "if __name__ == '__main__':\n",
    "    string, max_width = input(), int(input())\n",
    "    result = wrap(string, max_width)\n",
    "    print(result)"
   ]
  },
  {
   "cell_type": "markdown",
   "metadata": {},
   "source": [
    "### 9 - Mr. Vincent works in a door mat manufacturing company. One day, he designed a new door mat with the following specifications:\n",
    "\n",
    "Mat size must be NXM. (N is an odd natural number, and M is 3 times N.)\n",
    "The design should have 'WELCOME' written in the center.\n",
    "The design pattern should only use |, . and - characters."
   ]
  },
  {
   "cell_type": "code",
   "execution_count": 9,
   "metadata": {},
   "outputs": [
    {
     "name": "stdout",
     "output_type": "stream",
     "text": [
      "9 27\n",
      "------------.|.------------\n",
      "---------.|..|..|.---------\n",
      "------.|..|..|..|..|.------\n",
      "---.|..|..|..|..|..|..|.---\n",
      "----------WELCOME----------\n",
      "---.|..|..|..|..|..|..|.---\n",
      "------.|..|..|..|..|.------\n",
      "---------.|..|..|.---------\n",
      "------------.|.------------\n"
     ]
    }
   ],
   "source": [
    "N, M = map(int, input().split())\n",
    "for i in range(1, N, 2):\n",
    "    print(('.|.'*i).center(M,'-'))\n",
    "print('WELCOME'.center(M, '-'))\n",
    "for i in range(N-2, 0, -2):\n",
    "    print(('.|.'*i).center(M,'-'))"
   ]
  },
  {
   "cell_type": "markdown",
   "metadata": {},
   "source": [
    "### 10 - Given an integer, n, print the following values for each integer i from 1 to n:\n",
    "\n",
    "- Decimal\n",
    "- Octal\n",
    "- Hexadecimal (capitalized)\n",
    "- Binary"
   ]
  },
  {
   "cell_type": "code",
   "execution_count": 10,
   "metadata": {},
   "outputs": [
    {
     "name": "stdout",
     "output_type": "stream",
     "text": [
      "12\n",
      "   1    1    1    1\n",
      "   2    2    2   10\n",
      "   3    3    3   11\n",
      "   4    4    4  100\n",
      "   5    5    5  101\n",
      "   6    6    6  110\n",
      "   7    7    7  111\n",
      "   8   10    8 1000\n",
      "   9   11    9 1001\n",
      "  10   12    A 1010\n",
      "  11   13    B 1011\n",
      "  12   14    C 1100\n"
     ]
    }
   ],
   "source": [
    "def print_formatted(number):\n",
    "    width = len(str(bin(number)[2:]))\n",
    "    for i in range(1, number+1):\n",
    "        print(str(i).rjust(width, ' '), str(oct(i)[2:]).rjust(width, ' '), \n",
    "        str(hex(i)[2:]).upper().rjust(width, ' '), str(bin(i)[2:]).rjust(width, ' '))\n",
    "\n",
    "if __name__ == '__main__':\n",
    "    n = int(input())\n",
    "    print_formatted(n)"
   ]
  },
  {
   "cell_type": "markdown",
   "metadata": {},
   "source": [
    "### 11 - You are given an integer, n. Your task is to print an alphabet rangoli of size N. (Rangoli is a form of Indian folk art based on creation of patterns.)"
   ]
  },
  {
   "cell_type": "code",
   "execution_count": 11,
   "metadata": {},
   "outputs": [
    {
     "name": "stdout",
     "output_type": "stream",
     "text": [
      "5\n",
      "--------e--------\n",
      "------e-d-e------\n",
      "----e-d-c-d-e----\n",
      "--e-d-c-b-c-d-e--\n",
      "e-d-c-b-a-b-c-d-e\n",
      "--e-d-c-b-c-d-e--\n",
      "----e-d-c-d-e----\n",
      "------e-d-e------\n",
      "--------e--------\n"
     ]
    }
   ],
   "source": [
    "import string\n",
    "\n",
    "def print_rangoli(size):\n",
    "    string1 = string.ascii_lowercase[0:size]\n",
    "    for i in range(size-1, -size, -1):\n",
    "        x = string1[size-1:abs(i):-1]+string1[abs(i):size]\n",
    "        x = '-'.join(x)\n",
    "        print((x).center(4*size-3, '-'))        \n",
    "if __name__ == '__main__':\n",
    "    n = int(input())\n",
    "    print_rangoli(n)"
   ]
  },
  {
   "cell_type": "markdown",
   "metadata": {},
   "source": [
    "### 12 - You are asked to ensure that the first and last names of people begin with a capital letter in their passports. For example, alison heck should be capitalised correctly as Alison Heck.\n",
    "alison heck => Alison Heck\n",
    "\n",
    "Given a full name, your task is to capitalize the name appropriately."
   ]
  },
  {
   "cell_type": "code",
   "execution_count": 13,
   "metadata": {},
   "outputs": [
    {
     "name": "stdout",
     "output_type": "stream",
     "text": [
      "shivani khandelwal\n",
      "Shivani Khandelwal \n"
     ]
    }
   ],
   "source": [
    "def solve(s):\n",
    "    s = s.split(\" \")\n",
    "    s1 = ''\n",
    "    for i in s:\n",
    "        s1 += i[:1].upper()+i[1:]+' '\n",
    "    return s1\n",
    "\n",
    "if __name__ == '__main__':\n",
    "    s = input()\n",
    "    result = solve(s)\n",
    "    print(result)"
   ]
  },
  {
   "cell_type": "markdown",
   "metadata": {},
   "source": [
    "### 13 - Kevin and Stuart want to play the 'The Minion Game'.\n",
    "\n",
    "Game Rules\n",
    "\n",
    "Both players are given the same string, S.\n",
    "Both players have to make substrings using the letters of the string S.\n",
    "Stuart has to make words starting with consonants.\n",
    "Kevin has to make words starting with vowels.\n",
    "The game ends when both players have made all possible substrings.\n",
    "\n",
    "Scoring\n",
    "A player gets +1 point for each occurrence of the substring in the string S."
   ]
  },
  {
   "cell_type": "code",
   "execution_count": 14,
   "metadata": {},
   "outputs": [
    {
     "name": "stdout",
     "output_type": "stream",
     "text": [
      "BANANA\n",
      "Stuart 12\n"
     ]
    }
   ],
   "source": [
    "def minion_game(string):\n",
    "    stuart = 0\n",
    "    kevin = 0\n",
    "    vowels = 'AEIOU'\n",
    "    for i in range(len(string)):\n",
    "        if string[i] in vowels:\n",
    "            kevin += len(string)-i\n",
    "        else:\n",
    "            stuart += len(string)-i\n",
    "                \n",
    "    if stuart>kevin:\n",
    "        print('Stuart', stuart)\n",
    "    elif stuart<kevin:\n",
    "        print('Kevin', kevin)\n",
    "    else:\n",
    "        print('Draw')\n",
    "    \n",
    "if __name__ == '__main__':\n",
    "    s = input()\n",
    "    minion_game(s)"
   ]
  },
  {
   "cell_type": "markdown",
   "metadata": {},
   "source": [
    "### 14 - Consider the following:\n",
    "\n",
    "A string, s, of length n where s=c0c1 ...cn-1.\n",
    "An integer, k, where k is a factor of n.\n",
    "We can split s into n/k substrings where each subtring, ti, consists of a contiguous block of k characters in s. Then, use each ti to create string ui such that:\n",
    "\n",
    "- The characters in ui are a subsequence of the characters in ti.\n",
    "- Any repeat occurrence of a character is removed from the string such that each character in ui occurs exactly once. In other words, if the character at some index j in ti occurs at a previous index <j in ti, then do not include the character in string ui.\n",
    "\n",
    "Given s and k, print n/k lines where each line i denotes string ui."
   ]
  },
  {
   "cell_type": "code",
   "execution_count": 15,
   "metadata": {},
   "outputs": [
    {
     "name": "stdout",
     "output_type": "stream",
     "text": [
      "AABCAAADA\n",
      "3\n",
      "AB\n",
      "CA\n",
      "AD\n"
     ]
    }
   ],
   "source": [
    "def merge_the_tools(string, k):\n",
    "    for i in range(0, len(string), k):\n",
    "        key = string[i:k+i].index\n",
    "        print(''.join(sorted(set(string[i:k+i]), key=key)))\n",
    "\n",
    "if __name__ == '__main__':\n",
    "    string, k = input(), int(input())\n",
    "    merge_the_tools(string, k)"
   ]
  }
 ],
 "metadata": {
  "kernelspec": {
   "display_name": "Python 3",
   "language": "python",
   "name": "python3"
  },
  "language_info": {
   "codemirror_mode": {
    "name": "ipython",
    "version": 3
   },
   "file_extension": ".py",
   "mimetype": "text/x-python",
   "name": "python",
   "nbconvert_exporter": "python",
   "pygments_lexer": "ipython3",
   "version": "3.8.5"
  }
 },
 "nbformat": 4,
 "nbformat_minor": 4
}
