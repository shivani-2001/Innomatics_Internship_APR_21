{
 "cells": [
  {
   "cell_type": "markdown",
   "id": "00b3ec94",
   "metadata": {},
   "source": [
    "### 1 - You are given a space separated list of numbers. Your task is to print a reversed NumPy array with the element type float."
   ]
  },
  {
   "cell_type": "code",
   "execution_count": 1,
   "id": "82662a58",
   "metadata": {},
   "outputs": [
    {
     "name": "stdout",
     "output_type": "stream",
     "text": [
      "1 2 3 4 -8 -10\n",
      "[-10.  -8.   4.   3.   2.   1.]\n"
     ]
    }
   ],
   "source": [
    "import numpy\n",
    "\n",
    "def arrays(arr):\n",
    "    result = numpy.array(arr, float)\n",
    "    result = result[::-1]\n",
    "    return result\n",
    "\n",
    "arr = input().strip().split(' ')\n",
    "result = arrays(arr)\n",
    "print(result)"
   ]
  },
  {
   "cell_type": "markdown",
   "id": "a1924e21",
   "metadata": {},
   "source": [
    "### 2 - You are given a space separated list of nine integers. Your task is to convert this list into a 3x3 NumPy array."
   ]
  },
  {
   "cell_type": "code",
   "execution_count": 2,
   "id": "197ba29b",
   "metadata": {},
   "outputs": [
    {
     "name": "stdout",
     "output_type": "stream",
     "text": [
      "1 2 3 4 5 6 7 8 9\n",
      "[[1 2 3]\n",
      " [4 5 6]\n",
      " [7 8 9]]\n"
     ]
    }
   ],
   "source": [
    "import numpy\n",
    "\n",
    "arr = input().strip().split()\n",
    "arr = numpy.array(arr, int)\n",
    "arr.shape = (3, 3)\n",
    "print(arr)"
   ]
  },
  {
   "cell_type": "markdown",
   "id": "304deee9",
   "metadata": {},
   "source": [
    "### 3 - You are given a NxM integer array matrix with space separated elements (N = rows and M = columns). Your task is to print the transpose and flatten results."
   ]
  },
  {
   "cell_type": "code",
   "execution_count": 3,
   "id": "60954c26",
   "metadata": {},
   "outputs": [
    {
     "name": "stdout",
     "output_type": "stream",
     "text": [
      "2 2\n",
      "1 2\n",
      "3 4\n",
      "[[1 3]\n",
      " [2 4]]\n",
      "[1 2 3 4]\n"
     ]
    }
   ],
   "source": [
    "import numpy\n",
    "\n",
    "arr = []\n",
    "n, m = input().split()\n",
    "\n",
    "for i in range(int(n)):\n",
    "    arr.append(input().split())\n",
    "\n",
    "arr = numpy.array(arr, int)\n",
    "print(arr.T)\n",
    "print(arr.flatten())"
   ]
  },
  {
   "cell_type": "markdown",
   "id": "1ce485a8",
   "metadata": {},
   "source": [
    "### 4 - You are given two integer arrays of size NxP and MxP (N & M are rows, and P is the column). Your task is to concatenate the arrays along axis 0."
   ]
  },
  {
   "cell_type": "code",
   "execution_count": 4,
   "id": "f608cbfd",
   "metadata": {},
   "outputs": [
    {
     "name": "stdout",
     "output_type": "stream",
     "text": [
      "4 3 2\n",
      "1 2\n",
      "1 2\n",
      "1 2\n",
      "1 2\n",
      "3 4\n",
      "3 4\n",
      "3 4\n",
      "[[1 2]\n",
      " [1 2]\n",
      " [1 2]\n",
      " [1 2]\n",
      " [3 4]\n",
      " [3 4]\n",
      " [3 4]]\n"
     ]
    }
   ],
   "source": [
    "import numpy\n",
    "\n",
    "n, m, p = input().split()\n",
    "arr1 = []\n",
    "arr2 = []\n",
    "\n",
    "for i in range(int(n)):\n",
    "    arr1.append(input().split())\n",
    "    \n",
    "for i in range(int(m)):\n",
    "    arr2.append(input().split())\n",
    "    \n",
    "arr1 = numpy.array(arr1, int)\n",
    "arr2 = numpy.array(arr2, int)\n",
    "\n",
    "arr3 = numpy.concatenate((arr1, arr2))\n",
    "print(arr3)"
   ]
  },
  {
   "cell_type": "markdown",
   "id": "6c9d804b",
   "metadata": {},
   "source": [
    "### 5 - You are given the shape of the array in the form of space-separated integers, each integer representing the size of different dimensions, your task is to print an array of the given shape and integer type using the tools numpy.zeros and numpy.ones."
   ]
  },
  {
   "cell_type": "code",
   "execution_count": 5,
   "id": "a47f2b44",
   "metadata": {},
   "outputs": [
    {
     "name": "stdout",
     "output_type": "stream",
     "text": [
      "3 3 3\n",
      "[[[0 0 0]\n",
      "  [0 0 0]\n",
      "  [0 0 0]]\n",
      "\n",
      " [[0 0 0]\n",
      "  [0 0 0]\n",
      "  [0 0 0]]\n",
      "\n",
      " [[0 0 0]\n",
      "  [0 0 0]\n",
      "  [0 0 0]]]\n",
      "[[[1 1 1]\n",
      "  [1 1 1]\n",
      "  [1 1 1]]\n",
      "\n",
      " [[1 1 1]\n",
      "  [1 1 1]\n",
      "  [1 1 1]]\n",
      "\n",
      " [[1 1 1]\n",
      "  [1 1 1]\n",
      "  [1 1 1]]]\n"
     ]
    }
   ],
   "source": [
    "import numpy\n",
    "\n",
    "size = tuple(map(int, input().split()))\n",
    "print(numpy.zeros(size, dtype = numpy.int))\n",
    "print(numpy.ones(size, dtype = numpy.int))"
   ]
  },
  {
   "cell_type": "markdown",
   "id": "6b793fff",
   "metadata": {},
   "source": [
    "### 6 - Your task is to print an array of size NxM with its main diagonal elements as 1's and 0's everywhere else."
   ]
  },
  {
   "cell_type": "code",
   "execution_count": 6,
   "id": "c9cb5fa0",
   "metadata": {},
   "outputs": [
    {
     "name": "stdout",
     "output_type": "stream",
     "text": [
      "3 3\n",
      "[[ 1.  0.  0.]\n",
      " [ 0.  1.  0.]\n",
      " [ 0.  0.  1.]]\n"
     ]
    }
   ],
   "source": [
    "import numpy\n",
    "numpy.set_printoptions(legacy='1.13')\n",
    "\n",
    "n, m = map(int, input().split())\n",
    "print(numpy.eye(n, m))"
   ]
  },
  {
   "cell_type": "markdown",
   "id": "ff161c4d",
   "metadata": {},
   "source": [
    "### 7 - You are given two integer arrays, A and B of dimensions NxM.\n",
    "Your task is to perform the following operations:\n",
    "\n",
    "- Add ( + )\n",
    "- Subtract ( - )\n",
    "- Multiply ( * )\n",
    "- Integer Division ( / )\n",
    "- Mod ( % )\n",
    "- Power ( ** )"
   ]
  },
  {
   "cell_type": "code",
   "execution_count": 7,
   "id": "94cb568b",
   "metadata": {},
   "outputs": [
    {
     "name": "stdout",
     "output_type": "stream",
     "text": [
      "1 4\n",
      "1 2 3 4\n",
      "5 6 7 8\n",
      "[[ 6  8 10 12]]\n",
      "[[-4 -4 -4 -4]]\n",
      "[[ 5 12 21 32]]\n",
      "[[0 0 0 0]]\n",
      "[[1 2 3 4]]\n",
      "[[    1    64  2187 65536]]\n"
     ]
    }
   ],
   "source": [
    "import numpy\n",
    "\n",
    "n, m = input().split()\n",
    "arr1 = []\n",
    "arr2 = []\n",
    "\n",
    "for i in range(int(n)):\n",
    "    arr1.append(input().split())\n",
    "\n",
    "for i in range(int(n)):\n",
    "    arr2.append(input().split())\n",
    "    \n",
    "arr1 = numpy.array(arr1, int)\n",
    "arr2 = numpy.array(arr2, int)\n",
    "\n",
    "print(numpy.add(arr1, arr2))\n",
    "print(numpy.subtract(arr1, arr2))\n",
    "print(numpy.multiply(arr1, arr2))\n",
    "print(numpy.floor_divide(arr1, arr2))\n",
    "print(numpy.mod(arr1, arr2))\n",
    "print(numpy.power(arr1, arr2))"
   ]
  },
  {
   "cell_type": "markdown",
   "id": "9bb8858b",
   "metadata": {},
   "source": [
    "### 8 - You are given a 1-D array, A. Your task is to print the floor, ceil and rint of all the elements of A."
   ]
  },
  {
   "cell_type": "code",
   "execution_count": 8,
   "id": "0357916e",
   "metadata": {},
   "outputs": [
    {
     "name": "stdout",
     "output_type": "stream",
     "text": [
      "1.1 2.2 3.3 4.4 5.5 6.6 7.7 8.8 9.9\n",
      "[ 1.  2.  3.  4.  5.  6.  7.  8.  9.]\n",
      "[  2.   3.   4.   5.   6.   7.   8.   9.  10.]\n",
      "[  1.   2.   3.   4.   6.   7.   8.   9.  10.]\n"
     ]
    }
   ],
   "source": [
    "import numpy\n",
    "numpy.set_printoptions(legacy='1.13')\n",
    "\n",
    "arr1 = numpy.array(list(map(float, input().split())))\n",
    "\n",
    "print(numpy.floor(arr1))\n",
    "print(numpy.ceil(arr1))\n",
    "print(numpy.rint(arr1))"
   ]
  },
  {
   "cell_type": "markdown",
   "id": "3d3e1808",
   "metadata": {},
   "source": [
    "### 9 - You are given a 2-D array with dimensions NxM. Your task is to perform the sum tool over axis 0 and then find the product of that result."
   ]
  },
  {
   "cell_type": "code",
   "execution_count": 9,
   "id": "cb3f3d3d",
   "metadata": {},
   "outputs": [
    {
     "name": "stdout",
     "output_type": "stream",
     "text": [
      "2 2\n",
      "1 2\n",
      "3 4\n",
      "24\n"
     ]
    }
   ],
   "source": [
    "import numpy\n",
    "\n",
    "n, m = input().split()\n",
    "arr = []\n",
    "\n",
    "for i in range(int(n)):\n",
    "    arr.append(input().split())\n",
    "    \n",
    "arr = numpy.array(arr, int)\n",
    "arr_sum = numpy.sum(arr, axis=0)\n",
    "print(numpy.prod(arr_sum))"
   ]
  },
  {
   "cell_type": "markdown",
   "id": "2922bbf1",
   "metadata": {},
   "source": [
    "### 10 - You are given a 2-D array with dimensions NxM. Your task is to perform the min function over axis 1 and then find the max of that."
   ]
  },
  {
   "cell_type": "code",
   "execution_count": 10,
   "id": "d4028a07",
   "metadata": {},
   "outputs": [
    {
     "name": "stdout",
     "output_type": "stream",
     "text": [
      "4 2\n",
      "2 5\n",
      "3 7\n",
      "1 3\n",
      "4 0\n",
      "3\n"
     ]
    }
   ],
   "source": [
    "import numpy\n",
    "\n",
    "n, m = input().split()\n",
    "arr = []\n",
    "\n",
    "for i in range(int(n)):\n",
    "    arr.append(input().split())\n",
    "    \n",
    "arr = numpy.array(arr, int)\n",
    "arr_min = numpy.min(arr, axis=1)\n",
    "print(numpy.max(arr_min))"
   ]
  },
  {
   "cell_type": "markdown",
   "id": "398cbe39",
   "metadata": {},
   "source": [
    "### 11 - You are given a 2-D array of size NxM.\n",
    "Your task is to find:\n",
    "\n",
    "- The mean along axis 1\n",
    "- The var along axis 0\n",
    "- The std along axis None"
   ]
  },
  {
   "cell_type": "code",
   "execution_count": 11,
   "id": "346bfcce",
   "metadata": {},
   "outputs": [
    {
     "name": "stdout",
     "output_type": "stream",
     "text": [
      "2 2\n",
      "1 2\n",
      "3 4\n",
      "[ 1.5  3.5]\n",
      "[ 1.  1.]\n",
      "1.11803398875\n"
     ]
    }
   ],
   "source": [
    "import numpy\n",
    "\n",
    "n, m = input().split()\n",
    "arr = []\n",
    "\n",
    "for i in range(int(n)):\n",
    "    arr.append(list(map(int, input().split())))\n",
    "    \n",
    "arr = numpy.array(arr)\n",
    "\n",
    "print(numpy.mean(arr, axis=1))\n",
    "print(numpy.var(arr, axis=0))\n",
    "print(numpy.around(numpy.std(arr), 11))"
   ]
  },
  {
   "cell_type": "markdown",
   "id": "868fe5fd",
   "metadata": {},
   "source": [
    "### 12 - You are given two arrays A and B. Both have dimensions of NxM. Your task is to compute their matrix product."
   ]
  },
  {
   "cell_type": "code",
   "execution_count": 12,
   "id": "cceb9bbd",
   "metadata": {},
   "outputs": [
    {
     "name": "stdout",
     "output_type": "stream",
     "text": [
      "2\n",
      "1 2\n",
      "3 4\n",
      "1 2\n",
      "3 4\n",
      "[[ 7 10]\n",
      " [15 22]]\n"
     ]
    }
   ],
   "source": [
    "import numpy\n",
    "\n",
    "n = int(input())\n",
    "arr1 = []\n",
    "arr2 = []\n",
    "\n",
    "for i in range(n):\n",
    "    arr1.append(input().split())\n",
    "    \n",
    "for i in range(n):\n",
    "    arr2.append(input().split())\n",
    "    \n",
    "arr1 = numpy.array(arr1, int)\n",
    "arr2 = numpy.array(arr2, int)\n",
    "\n",
    "print(numpy.dot(arr1, arr2))"
   ]
  },
  {
   "cell_type": "markdown",
   "id": "907acb59",
   "metadata": {},
   "source": [
    "### 13 - You are given two arrays: A and B. Your task is to compute their inner and outer product."
   ]
  },
  {
   "cell_type": "code",
   "execution_count": 13,
   "id": "7692d1ef",
   "metadata": {},
   "outputs": [
    {
     "name": "stdout",
     "output_type": "stream",
     "text": [
      "0 1\n",
      "2 3\n",
      "3\n",
      "[[0 0]\n",
      " [2 3]]\n"
     ]
    }
   ],
   "source": [
    "import numpy\n",
    "\n",
    "arr1 = numpy.array(input().split(), int)\n",
    "arr2 = numpy.array(input().split(), int)\n",
    "\n",
    "print(numpy.inner(arr1, arr2))\n",
    "print(numpy.outer(arr1, arr2))"
   ]
  },
  {
   "cell_type": "markdown",
   "id": "782a8ca2",
   "metadata": {},
   "source": [
    "### 14 - You are given the coefficients of a polynomial P. Your task is to find the value of P at point x."
   ]
  },
  {
   "cell_type": "code",
   "execution_count": 14,
   "id": "2414c4b5",
   "metadata": {},
   "outputs": [
    {
     "name": "stdout",
     "output_type": "stream",
     "text": [
      "1.1 2 3\n",
      "0\n",
      "3.0\n"
     ]
    }
   ],
   "source": [
    "import numpy\n",
    "\n",
    "s = numpy.array(input().split(), float)\n",
    "print(numpy.polyval(s, float(input())))"
   ]
  },
  {
   "cell_type": "markdown",
   "id": "fc079cc1",
   "metadata": {},
   "source": [
    "### 15 - You are given a square matrix A with dimensions NxN. Your task is to find the determinant. Note: Round the answer to 2 places after the decimal."
   ]
  },
  {
   "cell_type": "code",
   "execution_count": 15,
   "id": "4b13b36b",
   "metadata": {},
   "outputs": [
    {
     "name": "stdout",
     "output_type": "stream",
     "text": [
      "2\n",
      "1.1 1.1\n",
      "1.1 1.1\n",
      "0.0\n"
     ]
    }
   ],
   "source": [
    "import numpy\n",
    "\n",
    "n = int(input())\n",
    "arr1 = []\n",
    "\n",
    "for i in range(n):\n",
    "    arr1.append(input().split())\n",
    "    \n",
    "arr1 = numpy.array(arr1, float)\n",
    "print(round(numpy.linalg.det(arr1), 2))"
   ]
  }
 ],
 "metadata": {
  "kernelspec": {
   "display_name": "Python 3",
   "language": "python",
   "name": "python3"
  },
  "language_info": {
   "codemirror_mode": {
    "name": "ipython",
    "version": 3
   },
   "file_extension": ".py",
   "mimetype": "text/x-python",
   "name": "python",
   "nbconvert_exporter": "python",
   "pygments_lexer": "ipython3",
   "version": "3.8.5"
  }
 },
 "nbformat": 4,
 "nbformat_minor": 5
}
